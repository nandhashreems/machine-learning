{
 "cells": [
  {
   "cell_type": "code",
   "execution_count": 1,
   "id": "86d1801e-69e2-4bff-8044-873e4568412b",
   "metadata": {},
   "outputs": [],
   "source": [
    "# import required libraries\n",
    "import pandas as pd\n",
    "import numpy as np\n",
    "from sklearn import preprocessing\n",
    "import matplotlib.pyplot as plt\n",
    "from sklearn.preprocessing import StandardScaler\n",
    "from sklearn.linear_model import LogisticRegression\n",
    "from sklearn.model_selection import KFold\n",
    "from sklearn.model_selection import train_test_split\n",
    "from scipy import stats\n",
    "import seaborn as sns"
   ]
  },
  {
   "cell_type": "code",
   "execution_count": 72,
   "id": "ad20c9a3-d56b-436c-8a06-c13ca48c0012",
   "metadata": {},
   "outputs": [],
   "source": [
    "class KNN_classifier:\n",
    "    def __init__(self, k):\n",
    "        self.k=k\n",
    "       \n",
    "\n",
    "    def fit(self,X_train,Y_train):\n",
    "        self.X_train=X_train\n",
    "        self.Y_train=Y_train\n",
    "    \n",
    "    def predict(self,X_test):\n",
    "        m = self.X_train.shape[0]\n",
    "        n = X_test.shape[0]\n",
    "        y_pred = []\n",
    "        \n",
    "        # Calculating distances using Euclidean formula\n",
    "        for i in range(n):  # for every sample in X_test\n",
    "            distance = []  # To store the distances\n",
    "            for j in range(m):  # for every sample in X_train\n",
    "                    d = (np.sqrt(np.sum(np.square(X_test[i,:] - self.X_train[j,:]))))  # Euclidean distance\n",
    "                    distance.append((d, Y_train[j]))    \n",
    "            distance = sorted(distance) # sorting distances in ascending order\n",
    "            \n",
    "        # Getting k nearest neighbors\n",
    "            neighbors = []\n",
    "            for item in range(self.k):\n",
    "                neighbors.append(distance[item][1])  # appending K nearest neighbors\n",
    "\n",
    "            # Making predictions\n",
    "            y_pred.append(stats.mode(neighbors)[0][0])  # For Classification\n",
    "        return y_pred\n",
    "      \n",
    "    # determine accuracy\n",
    "    def accuracy_score(self,actual_value,predicted_value):\n",
    "        accuracy=0\n",
    "        for i in range(len(predicted_value)):\n",
    "            if predicted_value[i]==actual_value.iloc[i]:\n",
    "                accuracy=accuracy+1\n",
    "        test_accuracy=accuracy/len(predicted_value)\n",
    "        return test_accuracy\n",
    "    \n",
    "    #calculating precision, recall, f1\n",
    "    def confusion_matrix(self,actual_value,predicted_value):\n",
    "        tp=0\n",
    "        tn=0\n",
    "        fp=0\n",
    "        fn=0\n",
    "        for i in range(len(predicted_value)):\n",
    "            if predicted_value[i]==0:\n",
    "                if predicted_value[i]==actual_value.iloc[i]:\n",
    "                    tn=tn+1\n",
    "                else:\n",
    "                    fn=fn+1\n",
    "            if predicted_value[i]==1:\n",
    "                if predicted_value[i]==actual_value.iloc[i]:\n",
    "                    tp=tp+1\n",
    "                else:\n",
    "                    fp=fp+1\n",
    "        prec=tp/(tp+fp)\n",
    "        recall=tp/(tp+fn)\n",
    "        f1=2*(prec*recall)/(prec+recall)\n",
    "        return prec,recall,f1"
   ]
  },
  {
   "cell_type": "code",
   "execution_count": 73,
   "id": "1e595812-cfdc-4cc4-bb03-7ee786181a63",
   "metadata": {},
   "outputs": [],
   "source": [
    "#reading the data\n",
    "data=pd.read_csv('heart.csv',header=0)\n",
    "data=data.dropna()"
   ]
  },
  {
   "cell_type": "code",
   "execution_count": 74,
   "id": "a9a93b32-25d3-4da5-841d-4cb6210219b1",
   "metadata": {},
   "outputs": [
    {
     "name": "stdout",
     "output_type": "stream",
     "text": [
      "(918, 12)\n"
     ]
    },
    {
     "data": {
      "text/html": [
       "<div>\n",
       "<style scoped>\n",
       "    .dataframe tbody tr th:only-of-type {\n",
       "        vertical-align: middle;\n",
       "    }\n",
       "\n",
       "    .dataframe tbody tr th {\n",
       "        vertical-align: top;\n",
       "    }\n",
       "\n",
       "    .dataframe thead th {\n",
       "        text-align: right;\n",
       "    }\n",
       "</style>\n",
       "<table border=\"1\" class=\"dataframe\">\n",
       "  <thead>\n",
       "    <tr style=\"text-align: right;\">\n",
       "      <th></th>\n",
       "      <th>Age</th>\n",
       "      <th>Sex</th>\n",
       "      <th>ChestPainType</th>\n",
       "      <th>RestingBP</th>\n",
       "      <th>Cholesterol</th>\n",
       "      <th>FastingBS</th>\n",
       "      <th>RestingECG</th>\n",
       "      <th>MaxHR</th>\n",
       "      <th>ExerciseAngina</th>\n",
       "      <th>Oldpeak</th>\n",
       "      <th>ST_Slope</th>\n",
       "      <th>HeartDisease</th>\n",
       "    </tr>\n",
       "  </thead>\n",
       "  <tbody>\n",
       "    <tr>\n",
       "      <th>0</th>\n",
       "      <td>40</td>\n",
       "      <td>M</td>\n",
       "      <td>ATA</td>\n",
       "      <td>140</td>\n",
       "      <td>289</td>\n",
       "      <td>0</td>\n",
       "      <td>Normal</td>\n",
       "      <td>172</td>\n",
       "      <td>N</td>\n",
       "      <td>0.0</td>\n",
       "      <td>Up</td>\n",
       "      <td>0</td>\n",
       "    </tr>\n",
       "    <tr>\n",
       "      <th>1</th>\n",
       "      <td>49</td>\n",
       "      <td>F</td>\n",
       "      <td>NAP</td>\n",
       "      <td>160</td>\n",
       "      <td>180</td>\n",
       "      <td>0</td>\n",
       "      <td>Normal</td>\n",
       "      <td>156</td>\n",
       "      <td>N</td>\n",
       "      <td>1.0</td>\n",
       "      <td>Flat</td>\n",
       "      <td>1</td>\n",
       "    </tr>\n",
       "    <tr>\n",
       "      <th>2</th>\n",
       "      <td>37</td>\n",
       "      <td>M</td>\n",
       "      <td>ATA</td>\n",
       "      <td>130</td>\n",
       "      <td>283</td>\n",
       "      <td>0</td>\n",
       "      <td>ST</td>\n",
       "      <td>98</td>\n",
       "      <td>N</td>\n",
       "      <td>0.0</td>\n",
       "      <td>Up</td>\n",
       "      <td>0</td>\n",
       "    </tr>\n",
       "    <tr>\n",
       "      <th>3</th>\n",
       "      <td>48</td>\n",
       "      <td>F</td>\n",
       "      <td>ASY</td>\n",
       "      <td>138</td>\n",
       "      <td>214</td>\n",
       "      <td>0</td>\n",
       "      <td>Normal</td>\n",
       "      <td>108</td>\n",
       "      <td>Y</td>\n",
       "      <td>1.5</td>\n",
       "      <td>Flat</td>\n",
       "      <td>1</td>\n",
       "    </tr>\n",
       "    <tr>\n",
       "      <th>4</th>\n",
       "      <td>54</td>\n",
       "      <td>M</td>\n",
       "      <td>NAP</td>\n",
       "      <td>150</td>\n",
       "      <td>195</td>\n",
       "      <td>0</td>\n",
       "      <td>Normal</td>\n",
       "      <td>122</td>\n",
       "      <td>N</td>\n",
       "      <td>0.0</td>\n",
       "      <td>Up</td>\n",
       "      <td>0</td>\n",
       "    </tr>\n",
       "  </tbody>\n",
       "</table>\n",
       "</div>"
      ],
      "text/plain": [
       "   Age Sex ChestPainType  RestingBP  Cholesterol  FastingBS RestingECG  MaxHR  \\\n",
       "0   40   M           ATA        140          289          0     Normal    172   \n",
       "1   49   F           NAP        160          180          0     Normal    156   \n",
       "2   37   M           ATA        130          283          0         ST     98   \n",
       "3   48   F           ASY        138          214          0     Normal    108   \n",
       "4   54   M           NAP        150          195          0     Normal    122   \n",
       "\n",
       "  ExerciseAngina  Oldpeak ST_Slope  HeartDisease  \n",
       "0              N      0.0       Up             0  \n",
       "1              N      1.0     Flat             1  \n",
       "2              N      0.0       Up             0  \n",
       "3              Y      1.5     Flat             1  \n",
       "4              N      0.0       Up             0  "
      ]
     },
     "execution_count": 74,
     "metadata": {},
     "output_type": "execute_result"
    }
   ],
   "source": [
    "print(data.shape) # size of the data\n",
    "data.head() #display excel sheet"
   ]
  },
  {
   "cell_type": "code",
   "execution_count": 75,
   "id": "aeba2a7a-5a56-403f-8d44-fcfad6c0c48c",
   "metadata": {},
   "outputs": [
    {
     "name": "stdout",
     "output_type": "stream",
     "text": [
      "Amount of patients without a heart disease: 410\n",
      "Amount of patients with a heart disease: 508\n"
     ]
    }
   ],
   "source": [
    "# checking whether the data is balanced\n",
    "\n",
    "print('Amount of patients without a heart disease:', (data['HeartDisease']==0).sum())\n",
    "print('Amount of patients with a heart disease:', (data['HeartDisease']==1).sum())\n",
    "\n",
    "#data is almost balanced."
   ]
  },
  {
   "cell_type": "code",
   "execution_count": 78,
   "id": "0480752d-89ed-43eb-b874-818c80e8dec3",
   "metadata": {},
   "outputs": [],
   "source": [
    "# Separating features from the target we want to predict\n",
    "X = data.drop('HeartDisease', axis=1)\n",
    "Y = data['HeartDisease']"
   ]
  },
  {
   "cell_type": "code",
   "execution_count": 79,
   "id": "d0d89dbd-702b-4f58-a081-37c65fbb76f0",
   "metadata": {},
   "outputs": [],
   "source": [
    "# creating dummy variables for the categorical features\n",
    "X = pd.get_dummies(X, drop_first=True)"
   ]
  },
  {
   "cell_type": "code",
   "execution_count": 80,
   "id": "979c969e-d9a9-4bbb-b936-cfeb94990c77",
   "metadata": {},
   "outputs": [],
   "source": [
    "#standardization/Normalising  data\n",
    "scaler = StandardScaler()\n",
    "scaler.fit(X)\n",
    "standardized_data = scaler.transform(X)\n",
    "\n",
    "X = standardized_data\n",
    "Y = data['HeartDisease']"
   ]
  },
  {
   "cell_type": "code",
   "execution_count": 81,
   "id": "843a7d86-1049-40db-b487-5dd8ae5f0220",
   "metadata": {},
   "outputs": [],
   "source": [
    "#splitting data to train(80% (train=60%, validate=20%)) and test 20%\n",
    "X1, X_test, Y1, Y_test = train_test_split(X, Y, test_size=0.2, random_state=42, shuffle= False) \n",
    "X_train, X_val, Y_train, Y_val = train_test_split(X1, Y1, test_size=0.25, random_state=42, shuffle= False) \n",
    "#X1=initial training, X2=final testing"
   ]
  },
  {
   "cell_type": "code",
   "execution_count": 86,
   "id": "78949820-b430-467f-aee1-62ea659c28ba",
   "metadata": {},
   "outputs": [],
   "source": [
    "# model fitting using training and validation data\n",
    "n_neighbors = 100\n",
    "accuracy_k = []\n",
    "\n",
    "for n_neighbors in range(1,n_neighbors+1):\n",
    "\n",
    "    model = KNN_classifier(k=n_neighbors)\n",
    "    model.fit(X_train, Y_train)\n",
    "    # modelevaluation \n",
    "    predictions = model.predict(X_val)\n",
    "    accuracy_pred = model.accuracy_score(Y_val, predictions)\n",
    "\n",
    "    accuracy_k.append(accuracy_pred)"
   ]
  },
  {
   "cell_type": "code",
   "execution_count": 87,
   "id": "0f1ca53a-0bac-4b57-9eff-9aa5560668e8",
   "metadata": {},
   "outputs": [
    {
     "data": {
      "image/png": "[encoded data removed]",
      "text/plain": [
       "<Figure size 504x432 with 1 Axes>"
      ]
     },
     "metadata": {
      "needs_background": "light"
     },
     "output_type": "display_data"
    }
   ],
   "source": [
    "plt.figure(figsize=(7,6))\n",
    "plt.title('KNN trained on data with different k values')\n",
    "plt.ylabel('Accuracy Score')\n",
    "plt.xlabel('K value')\n",
    "sns.lineplot(x=range(1, n_neighbors+1), y=accuracy_k[:100]);"
   ]
  },
  {
   "cell_type": "code",
   "execution_count": 98,
   "id": "d80502ce-e7c1-4579-a52c-3b141279e595",
   "metadata": {},
   "outputs": [
    {
     "name": "stdout",
     "output_type": "stream",
     "text": [
      "max accuracy obtained: 0.821\n"
     ]
    }
   ],
   "source": [
    "print('max accuracy obtained:', round(max(accuracy_k[:100]), 3))\n",
    "mval=(max(accuracy_k[:100]))\n",
    "k1=(accuracy_k.index(mval))+1\n"
   ]
  },
  {
   "cell_type": "code",
   "execution_count": 102,
   "id": "68883bd2-cf3a-4af0-8d55-42153c68d378",
   "metadata": {},
   "outputs": [
    {
     "name": "stdout",
     "output_type": "stream",
     "text": [
      "accuracy: 0.868421052631579\n"
     ]
    }
   ],
   "source": [
    "#evaluating test_dataset for best value of k\n",
    "model = KNN_classifier(k=k1)\n",
    "model.fit(X_train, Y_train)\n",
    "b_y_pred = model.predict(X_test)\n",
    "accuracy_pred = model.accuracy_score(Y_test, b_y_pred)\n",
    "print('accuracy:', accuracy_pred)"
   ]
  },
  {
   "cell_type": "code",
   "execution_count": 103,
   "id": "2d23ee52-9d97-4c3e-b2f8-82abcafacdb4",
   "metadata": {},
   "outputs": [
    {
     "name": "stdout",
     "output_type": "stream",
     "text": [
      "0.9484536082474226 0.9019607843137255 0.9246231155778893\n"
     ]
    }
   ],
   "source": [
    "#calculating precision,recall,f1_score\n",
    "precision,recall,f1_score = model.confusion_matrix(Y_test,b_y_pred)\n",
    "print(precision,recall,f1_score)"
   ]
  },
  {
   "cell_type": "code",
   "execution_count": null,
   "id": "582e44f5-e50e-4eec-a344-83d9f7233181",
   "metadata": {},
   "outputs": [],
   "source": []
  }
 ],
 "metadata": {
  "kernelspec": {
   "display_name": "Python 3",
   "language": "python",
   "name": "python3"
  },
  "language_info": {
   "codemirror_mode": {
    "name": "ipython",
    "version": 3
   },
   "file_extension": ".py",
   "mimetype": "text/x-python",
   "name": "python",
   "nbconvert_exporter": "python",
   "pygments_lexer": "ipython3",
   "version": "3.6.13"
  }
 },
 "nbformat": 4,
 "nbformat_minor": 5
}
